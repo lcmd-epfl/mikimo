{
 "cells": [
  {
   "attachments": {},
   "cell_type": "markdown",
   "metadata": {},
   "source": [
    "# Replot activity and selectivity map with time and temperature as descriptors\n",
    "\n",
    "- Catalytic hydrosilylation of CO$_2$ with metal pincer complexes"
   ]
  },
  {
   "cell_type": "code",
   "execution_count": 3,
   "metadata": {},
   "outputs": [],
   "source": [
    "import h5py\n",
    "from spectre.plot_function import plot_3d_np, plot_3d_contour_regions_np\n",
    "\n",
    "# read h5 files \n",
    "filename_activity = \"data/data_a_tt.h5\"\n",
    "with h5py.File(filename_activity, 'r') as f:\n",
    "    group = f['data']\n",
    "    temperatures_ = group['temperatures_'][:]\n",
    "    times_ = group['times_'][:]\n",
    "    agrid = group['agrid'][:]\n",
    "    \n",
    "filename_selectivity = \"data/data_s_tt.h5\"\n",
    "with h5py.File(filename_selectivity, 'r') as f:\n",
    "    group = f['data']\n",
    "    temperatures_ = group['temperatures_'][:]\n",
    "    times_ = group['times_'][:]\n",
    "    sgrid = group['dominant_indices'][:]\n"
   ]
  },
  {
   "cell_type": "code",
   "execution_count": 5,
   "metadata": {},
   "outputs": [],
   "source": [
    "# plot\n",
    "\n",
    "x1label = \"temperatures [K]\"\n",
    "x2label = \"log10(time) [s]\"\n",
    "afilename = \"Tt_activity_map.png\"\n",
    "sfilename = \"Tt_selectivity_map.png\"\n",
    "alabel = \"Total product concentration [M]\"\n",
    "slabel = \"Dominant product\"\n",
    "x1base = 20\n",
    "x2base = 0.2\n",
    "product_id = [\"HCOO[Si]\",\"CH$_2$(O[Si])$_2$\", \"CH$_3$(O[Si])\"]\n",
    "\n",
    "\n",
    "plot_3d_np(\n",
    "    temperatures_,\n",
    "    times_,\n",
    "    agrid,\n",
    "    agrid.min(),\n",
    "    agrid.max(),\n",
    "    temperatures_.min(),\n",
    "    temperatures_.max(),\n",
    "    times_.min(),\n",
    "    times_.max(),\n",
    "    x1base,\n",
    "    x2base,\n",
    "    x1label=x1label,\n",
    "    x2label=x2label,\n",
    "    ylabel=alabel,\n",
    "    filename=afilename,\n",
    ")\n",
    "\n",
    "plot_3d_contour_regions_np(\n",
    "    temperatures_,\n",
    "    times_,\n",
    "    sgrid,\n",
    "    temperatures_.min(),\n",
    "    temperatures_.max(),\n",
    "    times_.min(),\n",
    "    times_.max(),\n",
    "    x1base,\n",
    "    x2base,\n",
    "    x1label=x1label,\n",
    "    x2label=x2label,\n",
    "    ylabel=slabel,\n",
    "    filename=sfilename,\n",
    "    id_labels=product_id,\n",
    "    nunique=len(product_id)\n",
    ")"
   ]
  },
  {
   "attachments": {},
   "cell_type": "markdown",
   "metadata": {},
   "source": [
    "# Replot activity and selectivity map with descriptor (Ha) and temperature as descriptors\n",
    "\n",
    "- Catalytic hydrosilylation of CO$_2$ with metal pincer complexes"
   ]
  },
  {
   "cell_type": "code",
   "execution_count": 8,
   "metadata": {},
   "outputs": [],
   "source": [
    "import h5py\n",
    "import numpy as np\n",
    "from spectre.plot_function import plot_3d_np, plot_3d_contour_regions_np\n",
    "\n",
    "# read h5 files \n",
    "filename = \"data/data_tv.h5\"\n",
    "with h5py.File(filename, 'r') as f:\n",
    "    group = f['data']\n",
    "    xint = group['xint'][:]\n",
    "    t_points = group['t_points'][:]\n",
    "    grid_d = group['grid'][:]\n",
    "    tag = group['tag'][:]\n",
    "    x1label = group['x1label'][:]\n",
    "    x2label = group['x2label'][:]"
   ]
  },
  {
   "cell_type": "code",
   "execution_count": 10,
   "metadata": {},
   "outputs": [
    {
     "data": {
      "text/plain": [
       "0.999997735739088"
      ]
     },
     "execution_count": 10,
     "metadata": {},
     "output_type": "execute_result"
    }
   ],
   "source": [
    "activity_grid = np.sum(grid_d, axis=0).T\n",
    "activity_grid.max()"
   ]
  },
  {
   "cell_type": "code",
   "execution_count": 12,
   "metadata": {},
   "outputs": [],
   "source": [
    "x1label = \"Ha [kcal/mol]\"\n",
    "x2label = \"temperature [K]\"\n",
    "alabel = \"Total product concentration [M]\"\n",
    "slabel = \"Dominant product\"\n",
    "afilename = \"HaT_activity_map.png\"\n",
    "sfilename = \"HaT_selectivity_map.png\"\n",
    "product_id = [\"HCOO[Si]\",\"CH$_2$(O[Si])$_2$\", \"CH$_3$(O[Si])\"]\n",
    "x1base=30\n",
    "x2base=20\n",
    "\n",
    "activity_grid = np.sum(grid_d, axis=0).T\n",
    "selectivity_grid = np.argmax(grid_d, axis=0).T\n",
    "\n",
    "plot_3d_np(\n",
    "    xint,\n",
    "    t_points,\n",
    "    activity_grid,\n",
    "    activity_grid.min(),\n",
    "    activity_grid.max(),\n",
    "    xint.min(),\n",
    "    xint.max(),\n",
    "    t_points.min(),\n",
    "    t_points.max(),\n",
    "    x1base=x1base,\n",
    "    x2base=x2base,\n",
    "    x1label=x1label,\n",
    "    x2label=x2label,\n",
    "    ylabel=alabel,\n",
    "    filename=afilename,\n",
    ")\n",
    "\n",
    "plot_3d_contour_regions_np(\n",
    "    xint,\n",
    "    t_points,\n",
    "    selectivity_grid,\n",
    "    xint.min(),\n",
    "    xint.max(),\n",
    "    t_points.min(),\n",
    "    t_points.max(),\n",
    "    x1base=x1base,\n",
    "    x2base=x2base,\n",
    "    x1label=x1label,\n",
    "    x2label=x2label,\n",
    "    ylabel=slabel,\n",
    "    filename=sfilename,\n",
    "    id_labels=product_id,\n",
    "    nunique=len(product_id),\n",
    ")\n"
   ]
  },
  {
   "attachments": {},
   "cell_type": "markdown",
   "metadata": {},
   "source": [
    "# Replot volcano plot"
   ]
  },
  {
   "cell_type": "code",
   "execution_count": 22,
   "metadata": {},
   "outputs": [],
   "source": [
    "import h5py\n",
    "import numpy as np\n",
    "from spectre.plot_function import plot_2d_combo\n",
    "\n",
    "\n",
    "filename = \"data/data.h5\"\n",
    "# read h5 files \n",
    "with h5py.File(filename, 'r') as f:\n",
    "    # access the group containing the datasets\n",
    "    group = f['data']\n",
    "    # load each dataset into a numpy array\n",
    "    descr_all = group['descr_all'][:]\n",
    "    prod_conc_ = group['prod_conc_'][:]\n",
    "    descrp_pt = group['descrp_pt'][:]\n",
    "    prod_conc_pt_ = group['prod_conc_pt_'][:]\n",
    "    cb = group['cb'][:]\n",
    "    ms = group['ms'][:]\n",
    "    cb = np.char.decode(cb)\n",
    "    ms = np.char.decode(ms)\n",
    "    tag = group['tag'][:]\n",
    "    xlabel = group['xlabel'][:]\n",
    "    ylabel = group['ylabel'][:]\n",
    "    \n",
    "xlabel = xlabel[0].decode()\n",
    "ylabel = ylabel[0].decode()\n",
    "tag = tag[0].decode()\n",
    "\n",
    "if np.any(np.max(prod_conc_pt_) > 10):\n",
    "    print(\"Concentration likely reported as %yield, set y_base to 10\")\n",
    "    ybase = np.round((np.max(prod_conc_pt_) - 0) / 8)\n",
    "    if ybase == 0: ybase = 5\n",
    "    ylabel = \"%yield\"\n",
    "else:\n",
    "    ybase = np.round((np.max(prod_conc_pt_) - 0) / 8, 1)\n",
    "    if ybase == 0: ybase = 0.05\n",
    "    ylabel = \"Final product concentraion (M)\"\n",
    "\n",
    "xbase = np.round((np.max(descr_all) - np.min(descr_all)) / 8)\n",
    "if xbase == 0: xbase = 5\n",
    "\n",
    "product_id = ['HCOO[Si]', 'CH$_2$(O[Si])$_2$', 'CH$_3$(O[Si])']"
   ]
  },
  {
   "cell_type": "code",
   "execution_count": 31,
   "metadata": {},
   "outputs": [],
   "source": [
    "plot_2d_combo(\n",
    "    descr_all,\n",
    "    prod_conc_,\n",
    "    descrp_pt,\n",
    "    prod_conc_pt_,\n",
    "    xmin=descr_all[0],\n",
    "    xmax=descr_all[-1],\n",
    "    ms=ms,\n",
    "    xbase=xbase,\n",
    "    ybase=ybase,\n",
    "    xlabel=xlabel,\n",
    "    ylabel=ylabel,\n",
    "    filename=f\"km_volcano_{tag}_combo_polished.png\",\n",
    "    plotmode=3,\n",
    "    labels=product_id,\n",
    "    ci=[None]*3)\n"
   ]
  }
 ],
 "metadata": {
  "kernelspec": {
   "display_name": "spectre",
   "language": "python",
   "name": "python3"
  },
  "language_info": {
   "codemirror_mode": {
    "name": "ipython",
    "version": 3
   },
   "file_extension": ".py",
   "mimetype": "text/x-python",
   "name": "python",
   "nbconvert_exporter": "python",
   "pygments_lexer": "ipython3",
   "version": "3.10.9"
  },
  "orig_nbformat": 4
 },
 "nbformat": 4,
 "nbformat_minor": 2
}
